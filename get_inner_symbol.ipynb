{
  "nbformat": 4,
  "nbformat_minor": 0,
  "metadata": {
    "colab": {
      "name": "抽出処理系.ipynb",
      "provenance": [],
      "collapsed_sections": []
    },
    "kernelspec": {
      "name": "python3",
      "display_name": "Python 3"
    },
    "language_info": {
      "name": "python"
    }
  },
  "cells": [
    {
      "cell_type": "code",
      "metadata": {
        "colab": {
          "base_uri": "https://localhost:8080/"
        },
        "id": "iZ41mBoae6YJ",
        "outputId": "3db91cdb-98db-49c8-e4e1-a22e60b459eb"
      },
      "source": [
        "!pip install neologdn"
      ],
      "execution_count": 11,
      "outputs": [
        {
          "output_type": "stream",
          "name": "stdout",
          "text": [
            "Collecting neologdn\n",
            "  Downloading neologdn-0.5.1.tar.gz (57 kB)\n",
            "\u001b[?25l\r\u001b[K     |█████▊                          | 10 kB 23.0 MB/s eta 0:00:01\r\u001b[K     |███████████▌                    | 20 kB 30.0 MB/s eta 0:00:01\r\u001b[K     |█████████████████▏              | 30 kB 14.1 MB/s eta 0:00:01\r\u001b[K     |███████████████████████         | 40 kB 8.6 MB/s eta 0:00:01\r\u001b[K     |████████████████████████████▋   | 51 kB 5.4 MB/s eta 0:00:01\r\u001b[K     |████████████████████████████████| 57 kB 2.6 MB/s \n",
            "\u001b[?25hBuilding wheels for collected packages: neologdn\n",
            "  Building wheel for neologdn (setup.py) ... \u001b[?25l\u001b[?25hdone\n",
            "  Created wheel for neologdn: filename=neologdn-0.5.1-cp37-cp37m-linux_x86_64.whl size=172995 sha256=0aa8b19b0588ab13d25208b9353db56cf35da166ed73c57e673862fcafe58ba1\n",
            "  Stored in directory: /root/.cache/pip/wheels/19/15/5c/55b33d02e16129ef81313e4c86e473d6dd1cecf7317a525a9b\n",
            "Successfully built neologdn\n",
            "Installing collected packages: neologdn\n",
            "Successfully installed neologdn-0.5.1\n"
          ]
        }
      ]
    },
    {
      "cell_type": "code",
      "metadata": {
        "id": "ZaM4sklK-mRn"
      },
      "source": [
        "import pandas as pd"
      ],
      "execution_count": 1,
      "outputs": []
    },
    {
      "cell_type": "code",
      "metadata": {
        "id": "Nr05S7-E-72r"
      },
      "source": [
        "sample_df = pd.DataFrame({\n",
        "    \"name\" : [\"チコリータ（メガニウム）\", \"ヒノアラシ（バクフーン）\", \"ワニノコ（オーダイル）\"]\n",
        "})"
      ],
      "execution_count": 2,
      "outputs": []
    },
    {
      "cell_type": "code",
      "metadata": {
        "colab": {
          "base_uri": "https://localhost:8080/",
          "height": 138
        },
        "id": "bT_LaUenA5VF",
        "outputId": "e0830ec2-f1d8-4d62-f596-48ecea659371"
      },
      "source": [
        "sample_df"
      ],
      "execution_count": 3,
      "outputs": [
        {
          "output_type": "execute_result",
          "data": {
            "text/html": [
              "<div>\n",
              "<style scoped>\n",
              "    .dataframe tbody tr th:only-of-type {\n",
              "        vertical-align: middle;\n",
              "    }\n",
              "\n",
              "    .dataframe tbody tr th {\n",
              "        vertical-align: top;\n",
              "    }\n",
              "\n",
              "    .dataframe thead th {\n",
              "        text-align: right;\n",
              "    }\n",
              "</style>\n",
              "<table border=\"1\" class=\"dataframe\">\n",
              "  <thead>\n",
              "    <tr style=\"text-align: right;\">\n",
              "      <th></th>\n",
              "      <th>name</th>\n",
              "    </tr>\n",
              "  </thead>\n",
              "  <tbody>\n",
              "    <tr>\n",
              "      <th>0</th>\n",
              "      <td>チコリータ（メガニウム）</td>\n",
              "    </tr>\n",
              "    <tr>\n",
              "      <th>1</th>\n",
              "      <td>ヒノアラシ（バクフーン）</td>\n",
              "    </tr>\n",
              "    <tr>\n",
              "      <th>2</th>\n",
              "      <td>ワニノコ（オーダイル）</td>\n",
              "    </tr>\n",
              "  </tbody>\n",
              "</table>\n",
              "</div>"
            ],
            "text/plain": [
              "           name\n",
              "0  チコリータ（メガニウム）\n",
              "1  ヒノアラシ（バクフーン）\n",
              "2   ワニノコ（オーダイル）"
            ]
          },
          "metadata": {},
          "execution_count": 3
        }
      ]
    },
    {
      "cell_type": "code",
      "metadata": {
        "colab": {
          "base_uri": "https://localhost:8080/"
        },
        "id": "CEzauARxA67I",
        "outputId": "27c2a866-33b3-472c-ed80-9587e1165f79"
      },
      "source": [
        "#全角カッコ内の文字を取り出したい\n",
        "import re\n",
        "text = \"チコリータ（メガニウム）\"\n",
        "splited = re.split(r\"[（）]\", text)[0:-1]\n",
        "name_1 = splited[0]\n",
        "name_2 = splited[1]\n",
        "print(splited)\n",
        "print(name_1)\n",
        "print(name_2)"
      ],
      "execution_count": 4,
      "outputs": [
        {
          "output_type": "stream",
          "name": "stdout",
          "text": [
            "['チコリータ', 'メガニウム']\n",
            "チコリータ\n",
            "メガニウム\n"
          ]
        }
      ]
    },
    {
      "cell_type": "code",
      "metadata": {
        "colab": {
          "base_uri": "https://localhost:8080/",
          "height": 138
        },
        "id": "PTm9Bad0CZb-",
        "outputId": "4f642cbd-8c1f-4abf-e4ef-eda070c9059b"
      },
      "source": [
        "#上記を関数化してdfに適用\n",
        "import re\n",
        "def get_inner_symbol(text):\n",
        "    #[]内の文字で区切る処理\n",
        "    splited = re.split(r\"[（）]\", text)[0:-1]\n",
        "    name_1 = splited[0]\n",
        "    name_2 = splited[1]\n",
        "    return [name_1, name_2]\n",
        "\n",
        "\n",
        "a = sample_df[\"name\"].apply(get_inner_symbol).tolist()\n",
        "sample_df[\"name_1\"] = [val[0] for val in a ]\n",
        "sample_df[\"name_2\"] = [val[1] for val in a]\n",
        "sample_df"
      ],
      "execution_count": 5,
      "outputs": [
        {
          "output_type": "execute_result",
          "data": {
            "text/html": [
              "<div>\n",
              "<style scoped>\n",
              "    .dataframe tbody tr th:only-of-type {\n",
              "        vertical-align: middle;\n",
              "    }\n",
              "\n",
              "    .dataframe tbody tr th {\n",
              "        vertical-align: top;\n",
              "    }\n",
              "\n",
              "    .dataframe thead th {\n",
              "        text-align: right;\n",
              "    }\n",
              "</style>\n",
              "<table border=\"1\" class=\"dataframe\">\n",
              "  <thead>\n",
              "    <tr style=\"text-align: right;\">\n",
              "      <th></th>\n",
              "      <th>name</th>\n",
              "      <th>name_1</th>\n",
              "      <th>name_2</th>\n",
              "    </tr>\n",
              "  </thead>\n",
              "  <tbody>\n",
              "    <tr>\n",
              "      <th>0</th>\n",
              "      <td>チコリータ（メガニウム）</td>\n",
              "      <td>チコリータ</td>\n",
              "      <td>メガニウム</td>\n",
              "    </tr>\n",
              "    <tr>\n",
              "      <th>1</th>\n",
              "      <td>ヒノアラシ（バクフーン）</td>\n",
              "      <td>ヒノアラシ</td>\n",
              "      <td>バクフーン</td>\n",
              "    </tr>\n",
              "    <tr>\n",
              "      <th>2</th>\n",
              "      <td>ワニノコ（オーダイル）</td>\n",
              "      <td>ワニノコ</td>\n",
              "      <td>オーダイル</td>\n",
              "    </tr>\n",
              "  </tbody>\n",
              "</table>\n",
              "</div>"
            ],
            "text/plain": [
              "           name name_1 name_2\n",
              "0  チコリータ（メガニウム）  チコリータ  メガニウム\n",
              "1  ヒノアラシ（バクフーン）  ヒノアラシ  バクフーン\n",
              "2   ワニノコ（オーダイル）   ワニノコ  オーダイル"
            ]
          },
          "metadata": {},
          "execution_count": 5
        }
      ]
    },
    {
      "cell_type": "code",
      "metadata": {
        "id": "nkLO3wlNPOnH"
      },
      "source": [
        "# （）のない例外を含むパターン\n",
        "sample_df_2 = pd.DataFrame({\n",
        "    \"name\" : [\"チコリータ（メガニウム）\", \"ヒノアラシ（バクフーン）\", \"ワニノコ（オーダイル）\", \"アンノーン\"]\n",
        "})"
      ],
      "execution_count": 6,
      "outputs": []
    },
    {
      "cell_type": "code",
      "metadata": {
        "colab": {
          "base_uri": "https://localhost:8080/",
          "height": 226
        },
        "id": "WUcvJTwFP6uG",
        "outputId": "655d6c0e-8a93-43eb-89d9-05027dff2a78"
      },
      "source": [
        "#全角カッコ内の文字を取り出したい\n",
        "# カッコのないセルで例外してしまう\n",
        "import re\n",
        "text = \"アンノーン\"\n",
        "splited = re.split(r\"[（）]\", text)[0:-1]\n",
        "name_1 = splited[0]\n",
        "name_2 = splited[1]\n",
        "print(splited)\n",
        "print(name_1)\n",
        "print(name_2)"
      ],
      "execution_count": 7,
      "outputs": [
        {
          "output_type": "error",
          "ename": "IndexError",
          "evalue": "ignored",
          "traceback": [
            "\u001b[0;31m---------------------------------------------------------------------------\u001b[0m",
            "\u001b[0;31mIndexError\u001b[0m                                Traceback (most recent call last)",
            "\u001b[0;32m<ipython-input-7-0aa90ff08c37>\u001b[0m in \u001b[0;36m<module>\u001b[0;34m()\u001b[0m\n\u001b[1;32m      4\u001b[0m \u001b[0mtext\u001b[0m \u001b[0;34m=\u001b[0m \u001b[0;34m\"アンノーン\"\u001b[0m\u001b[0;34m\u001b[0m\u001b[0;34m\u001b[0m\u001b[0m\n\u001b[1;32m      5\u001b[0m \u001b[0msplited\u001b[0m \u001b[0;34m=\u001b[0m \u001b[0mre\u001b[0m\u001b[0;34m.\u001b[0m\u001b[0msplit\u001b[0m\u001b[0;34m(\u001b[0m\u001b[0;34mr\"[（）]\"\u001b[0m\u001b[0;34m,\u001b[0m \u001b[0mtext\u001b[0m\u001b[0;34m)\u001b[0m\u001b[0;34m[\u001b[0m\u001b[0;36m0\u001b[0m\u001b[0;34m:\u001b[0m\u001b[0;34m-\u001b[0m\u001b[0;36m1\u001b[0m\u001b[0;34m]\u001b[0m\u001b[0;34m\u001b[0m\u001b[0;34m\u001b[0m\u001b[0m\n\u001b[0;32m----> 6\u001b[0;31m \u001b[0mname_1\u001b[0m \u001b[0;34m=\u001b[0m \u001b[0msplited\u001b[0m\u001b[0;34m[\u001b[0m\u001b[0;36m0\u001b[0m\u001b[0;34m]\u001b[0m\u001b[0;34m\u001b[0m\u001b[0;34m\u001b[0m\u001b[0m\n\u001b[0m\u001b[1;32m      7\u001b[0m \u001b[0mname_2\u001b[0m \u001b[0;34m=\u001b[0m \u001b[0msplited\u001b[0m\u001b[0;34m[\u001b[0m\u001b[0;36m1\u001b[0m\u001b[0;34m]\u001b[0m\u001b[0;34m\u001b[0m\u001b[0;34m\u001b[0m\u001b[0m\n\u001b[1;32m      8\u001b[0m \u001b[0mprint\u001b[0m\u001b[0;34m(\u001b[0m\u001b[0msplited\u001b[0m\u001b[0;34m)\u001b[0m\u001b[0;34m\u001b[0m\u001b[0;34m\u001b[0m\u001b[0m\n",
            "\u001b[0;31mIndexError\u001b[0m: list index out of range"
          ]
        }
      ]
    },
    {
      "cell_type": "code",
      "metadata": {
        "colab": {
          "base_uri": "https://localhost:8080/",
          "height": 193
        },
        "id": "jFxx7h_HQAdd",
        "outputId": "5c976ac7-538d-4507-eb1b-ef5f48569e39"
      },
      "source": [
        "#全角カッコ内の文字を取り出したい\n",
        "# カッコのないセルでエラーしてしまう\n",
        "# →tryで躱してみる\n",
        "import re\n",
        "text = \"アンノーン\"\n",
        "try:\n",
        "    splited = re.split(r\"[（）]\", text)[0:-1]\n",
        "    name_1 = splited[0]\n",
        "    name_2 = splited[1]\n",
        "    print(splited)\n",
        "    print(name_3)\n",
        "    print(name_2)\n",
        "except:\n",
        "    pass\n",
        "print(name_3) # →何も起こっていない"
      ],
      "execution_count": 8,
      "outputs": [
        {
          "output_type": "error",
          "ename": "NameError",
          "evalue": "ignored",
          "traceback": [
            "\u001b[0;31m---------------------------------------------------------------------------\u001b[0m",
            "\u001b[0;31mNameError\u001b[0m                                 Traceback (most recent call last)",
            "\u001b[0;32m<ipython-input-8-bfeacddf31f6>\u001b[0m in \u001b[0;36m<module>\u001b[0;34m()\u001b[0m\n\u001b[1;32m     13\u001b[0m \u001b[0;32mexcept\u001b[0m\u001b[0;34m:\u001b[0m\u001b[0;34m\u001b[0m\u001b[0;34m\u001b[0m\u001b[0m\n\u001b[1;32m     14\u001b[0m     \u001b[0;32mpass\u001b[0m\u001b[0;34m\u001b[0m\u001b[0;34m\u001b[0m\u001b[0m\n\u001b[0;32m---> 15\u001b[0;31m \u001b[0mprint\u001b[0m\u001b[0;34m(\u001b[0m\u001b[0mname_3\u001b[0m\u001b[0;34m)\u001b[0m \u001b[0;31m# →何も起こっていない\u001b[0m\u001b[0;34m\u001b[0m\u001b[0;34m\u001b[0m\u001b[0m\n\u001b[0m",
            "\u001b[0;31mNameError\u001b[0m: name 'name_3' is not defined"
          ]
        }
      ]
    },
    {
      "cell_type": "code",
      "metadata": {
        "colab": {
          "base_uri": "https://localhost:8080/",
          "height": 170
        },
        "id": "iqTNkBZ9QWkZ",
        "outputId": "fd0d948e-317c-4f51-99ea-03ce4d4bffb8"
      },
      "source": [
        "#上記を関数化してdfに適用\n",
        "import re\n",
        "import neologdn\n",
        "def get_inner_symbol(text):\n",
        "    #[]内の文字で区切る処理\n",
        "    text = neologdn.normalize(text)\n",
        "    splited = re.split(r\"[()]\", text)[0:-1]\n",
        "    if len(splited) == 2: # if文で躱す→OK\n",
        "        name_1, name_2 = splited[0], splited[1]\n",
        "    else:\n",
        "        name_1, name_2  = text, \"-\"\n",
        "    return [name_1, name_2]\n",
        "    \n",
        "\n",
        "a = sample_df_2[\"name\"].apply(get_inner_symbol).tolist()\n",
        "sample_df_2[\"name_1\"] = [val[0] for val in a ]\n",
        "sample_df_2[\"name_2\"] = [val[1] for val in a]\n",
        "sample_df_2"
      ],
      "execution_count": 12,
      "outputs": [
        {
          "output_type": "execute_result",
          "data": {
            "text/html": [
              "<div>\n",
              "<style scoped>\n",
              "    .dataframe tbody tr th:only-of-type {\n",
              "        vertical-align: middle;\n",
              "    }\n",
              "\n",
              "    .dataframe tbody tr th {\n",
              "        vertical-align: top;\n",
              "    }\n",
              "\n",
              "    .dataframe thead th {\n",
              "        text-align: right;\n",
              "    }\n",
              "</style>\n",
              "<table border=\"1\" class=\"dataframe\">\n",
              "  <thead>\n",
              "    <tr style=\"text-align: right;\">\n",
              "      <th></th>\n",
              "      <th>name</th>\n",
              "      <th>name_1</th>\n",
              "      <th>name_2</th>\n",
              "    </tr>\n",
              "  </thead>\n",
              "  <tbody>\n",
              "    <tr>\n",
              "      <th>0</th>\n",
              "      <td>チコリータ（メガニウム）</td>\n",
              "      <td>チコリータ</td>\n",
              "      <td>メガニウム</td>\n",
              "    </tr>\n",
              "    <tr>\n",
              "      <th>1</th>\n",
              "      <td>ヒノアラシ（バクフーン）</td>\n",
              "      <td>ヒノアラシ</td>\n",
              "      <td>バクフーン</td>\n",
              "    </tr>\n",
              "    <tr>\n",
              "      <th>2</th>\n",
              "      <td>ワニノコ（オーダイル）</td>\n",
              "      <td>ワニノコ</td>\n",
              "      <td>オーダイル</td>\n",
              "    </tr>\n",
              "    <tr>\n",
              "      <th>3</th>\n",
              "      <td>アンノーン</td>\n",
              "      <td>アンノーン</td>\n",
              "      <td>-</td>\n",
              "    </tr>\n",
              "  </tbody>\n",
              "</table>\n",
              "</div>"
            ],
            "text/plain": [
              "           name name_1 name_2\n",
              "0  チコリータ（メガニウム）  チコリータ  メガニウム\n",
              "1  ヒノアラシ（バクフーン）  ヒノアラシ  バクフーン\n",
              "2   ワニノコ（オーダイル）   ワニノコ  オーダイル\n",
              "3         アンノーン  アンノーン      -"
            ]
          },
          "metadata": {},
          "execution_count": 12
        }
      ]
    },
    {
      "cell_type": "code",
      "metadata": {
        "colab": {
          "base_uri": "https://localhost:8080/"
        },
        "id": "PGPyuOLCYhTo",
        "outputId": "0b07196f-4389-4cc9-9d09-3a4e2918a5d2"
      },
      "source": [
        "import neologdn\n",
        "\n",
        "text = \"チコリータ（メガニウム）\"\n",
        "text = neologdn.normalize(text)\n",
        "print(text)"
      ],
      "execution_count": 3,
      "outputs": [
        {
          "output_type": "stream",
          "name": "stdout",
          "text": [
            "チコリータ(メガニウム)\n"
          ]
        }
      ]
    },
    {
      "cell_type": "code",
      "metadata": {
        "id": "wiV1iR4PwzS4"
      },
      "source": [
        ""
      ],
      "execution_count": null,
      "outputs": []
    }
  ]
}